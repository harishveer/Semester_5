{
 "cells": [
  {
   "cell_type": "code",
   "execution_count": 1,
   "id": "3aed7a2f",
   "metadata": {},
   "outputs": [],
   "source": [
    "import numpy as np"
   ]
  },
  {
   "cell_type": "markdown",
   "id": "864b7471",
   "metadata": {},
   "source": [
    "# GENERATE SAMPLE DATA : HEIGHT OF 30 STUDENTS(IN INCHES)"
   ]
  },
  {
   "cell_type": "code",
   "execution_count": 2,
   "id": "b4254941",
   "metadata": {},
   "outputs": [],
   "source": [
    "np.random.seed(42)\n",
    "heights=np.random.normal(loc=65,scale=3,size=100)"
   ]
  },
  {
   "cell_type": "code",
   "execution_count": 3,
   "id": "f93287f9",
   "metadata": {},
   "outputs": [
    {
     "data": {
      "text/plain": [
       "array([66.49014246, 64.5852071 , 66.94306561, 69.56908957, 64.29753988,\n",
       "       64.29758913, 69.73763845, 67.30230419, 63.59157684, 66.62768013,\n",
       "       63.60974692, 63.60281074, 65.72588681, 59.26015927, 59.8252465 ,\n",
       "       63.31313741, 61.96150664, 65.942742  , 62.27592777, 60.7630889 ,\n",
       "       69.39694631, 64.3226711 , 65.20258461, 60.72575544, 63.36685183,\n",
       "       65.33276777, 61.54701927, 66.12709406, 63.19808393, 64.12491875,\n",
       "       63.19488016, 70.55683455, 64.95950833, 61.82686721, 67.46763474,\n",
       "       61.33746905, 65.62659079, 59.12098963, 61.01544185, 65.59058371,\n",
       "       67.21539974, 65.51410484, 64.65305515, 64.09668891, 60.56443403,\n",
       "       62.84046737, 63.61808369, 68.17136668, 66.03085487, 59.71087953,\n",
       "       65.97225191, 63.84475316, 62.969234  , 66.83502887, 68.09299857,\n",
       "       67.79384036, 62.48234743, 64.07236287, 65.99379029, 67.92663538,\n",
       "       63.56247729, 64.44302307, 61.68099508, 61.41138013, 67.43757747,\n",
       "       69.06872009, 64.78396964, 68.01059869, 66.08490808, 63.06464074,\n",
       "       66.08418682, 69.6141097 , 64.89252188, 69.69393097, 57.14076469,\n",
       "       67.46570751, 65.2611412 , 64.10297795, 65.27528233, 59.03729326,\n",
       "       64.34098434, 66.07133771, 69.43368213, 63.44518935, 62.57451919,\n",
       "       63.49472887, 67.74620635, 65.98625333, 63.41071939, 66.5398023 ,\n",
       "       65.29123265, 67.90593497, 62.89384072, 64.01701356, 63.82367554,\n",
       "       60.60945516, 65.88836083, 65.78316582, 65.01534037, 64.2962386 ])"
      ]
     },
     "execution_count": 3,
     "metadata": {},
     "output_type": "execute_result"
    }
   ],
   "source": [
    "heights"
   ]
  },
  {
   "cell_type": "markdown",
   "id": "026f3260",
   "metadata": {},
   "source": [
    "# POINT ESTIMATION : CALCULATE THE SAMPLE MEAN"
   ]
  },
  {
   "cell_type": "code",
   "execution_count": 4,
   "id": "fd689042",
   "metadata": {},
   "outputs": [
    {
     "name": "stdout",
     "output_type": "stream",
     "text": [
      "Sample Mean (Point Estimate): 64.68846044781772\n"
     ]
    }
   ],
   "source": [
    "sample_mean=np.mean(heights)\n",
    "print(\"Sample Mean (Point Estimate):\",sample_mean)"
   ]
  },
  {
   "cell_type": "code",
   "execution_count": 5,
   "id": "025667fb",
   "metadata": {},
   "outputs": [],
   "source": [
    "import numpy as np\n",
    "import scipy.stats as stats"
   ]
  },
  {
   "cell_type": "markdown",
   "id": "9f3cae24",
   "metadata": {},
   "source": [
    "# GENERATE SAMPLE DATA : HEIGHTS OF 30 STUDENTS(IN INCHES)"
   ]
  },
  {
   "cell_type": "code",
   "execution_count": 6,
   "id": "3c90e542",
   "metadata": {},
   "outputs": [],
   "source": [
    "np.random.seed(47)\n",
    "heights=np.random.normal(loc=65,scale=3,size=100)"
   ]
  },
  {
   "cell_type": "markdown",
   "id": "97a22bd3",
   "metadata": {},
   "source": [
    "# CALCULATE THE SAMPLE MEAN AND STANDARD DEVIATION"
   ]
  },
  {
   "cell_type": "code",
   "execution_count": 7,
   "id": "11ef31db",
   "metadata": {},
   "outputs": [],
   "source": [
    "sample_mean=np.mean(heights)\n",
    "sample_std=np.std(heights,ddof=1)"
   ]
  },
  {
   "cell_type": "markdown",
   "id": "4e308716",
   "metadata": {},
   "source": [
    "# SET THE DESIRED CONFIDENCE LEVEL"
   ]
  },
  {
   "cell_type": "code",
   "execution_count": 8,
   "id": "89e3c2ab",
   "metadata": {},
   "outputs": [],
   "source": [
    "confidence_level=0.95"
   ]
  },
  {
   "cell_type": "markdown",
   "id": "e073b1cc",
   "metadata": {},
   "source": [
    "# CALCULATE THE MARGIN OF ERROR"
   ]
  },
  {
   "cell_type": "code",
   "execution_count": 9,
   "id": "8011e69a",
   "metadata": {},
   "outputs": [],
   "source": [
    "margin_of_error=stats.t.ppf((1 + confidence_level)/2,len(heights)-1)*(sample_std/np.sqrt(len(heights)))"
   ]
  },
  {
   "cell_type": "code",
   "execution_count": 10,
   "id": "9c989f9a",
   "metadata": {},
   "outputs": [
    {
     "data": {
      "text/plain": [
       "0.628858498905453"
      ]
     },
     "execution_count": 10,
     "metadata": {},
     "output_type": "execute_result"
    }
   ],
   "source": [
    "margin_of_error"
   ]
  },
  {
   "cell_type": "markdown",
   "id": "3d062675",
   "metadata": {},
   "source": [
    "# CALCULATE THE CONFIDENCE INTERVAL"
   ]
  },
  {
   "cell_type": "code",
   "execution_count": 11,
   "id": "cab3d7b7",
   "metadata": {},
   "outputs": [],
   "source": [
    "lower_bound=sample_mean - margin_of_error\n",
    "upper_bound=sample_mean + margin_of_error"
   ]
  },
  {
   "cell_type": "markdown",
   "id": "9b5b171d",
   "metadata": {},
   "source": [
    "# PRINT THE CONFIDENCE INTERVAL"
   ]
  },
  {
   "cell_type": "code",
   "execution_count": 12,
   "id": "c01c032d",
   "metadata": {},
   "outputs": [
    {
     "name": "stdout",
     "output_type": "stream",
     "text": [
      "Confidence Interval(95.0%):[64.3537379968567,65.61145499466761]\n"
     ]
    }
   ],
   "source": [
    "print(f\"Confidence Interval({confidence_level*100}%):[{lower_bound},{upper_bound}]\")"
   ]
  },
  {
   "cell_type": "markdown",
   "id": "5dfb2c97",
   "metadata": {},
   "source": [
    "# HYPOTHESIS T TEST"
   ]
  },
  {
   "cell_type": "markdown",
   "id": "8c86c330",
   "metadata": {},
   "source": [
    "# GENERATE SAMPLE DATA FOR TWO GROUPS"
   ]
  },
  {
   "cell_type": "code",
   "execution_count": 13,
   "id": "6e63559e",
   "metadata": {},
   "outputs": [],
   "source": [
    "np.random.seed(42)\n",
    "group1_scores=np.random.normal(loc=70,scale=5,size=30)\n",
    "group2_scores=np.random.normal(loc=75,scale=5,size=30)"
   ]
  },
  {
   "cell_type": "markdown",
   "id": "11d7d32e",
   "metadata": {},
   "source": [
    "# PERFORM INDEPENDENT T TEST"
   ]
  },
  {
   "cell_type": "code",
   "execution_count": 14,
   "id": "2001c8b4",
   "metadata": {},
   "outputs": [],
   "source": [
    "t_statistic,p_value=stats.ttest_ind(group1_scores,group2_scores)"
   ]
  },
  {
   "cell_type": "markdown",
   "id": "6b71f7ca",
   "metadata": {},
   "source": [
    "# SET THE SIGNIFICANCE LEVEL"
   ]
  },
  {
   "cell_type": "code",
   "execution_count": 15,
   "id": "615d1fa5",
   "metadata": {},
   "outputs": [],
   "source": [
    "alpha=0.05"
   ]
  },
  {
   "cell_type": "code",
   "execution_count": 16,
   "id": "d99f5ca0",
   "metadata": {},
   "outputs": [
    {
     "name": "stdout",
     "output_type": "stream",
     "text": [
      "T-test Results:\n",
      "T-statistic: -4.512913234547576\n",
      "p-value; 3.176506547469916e-05\n"
     ]
    }
   ],
   "source": [
    "print(\"T-test Results:\")\n",
    "print(\"T-statistic:\",t_statistic)\n",
    "print(\"p-value;\",p_value)"
   ]
  },
  {
   "cell_type": "markdown",
   "id": "96fb63a4",
   "metadata": {},
   "source": [
    "# ALPHA TO DETERMINE SIGNIFICANCE"
   ]
  },
  {
   "cell_type": "code",
   "execution_count": 17,
   "id": "9a289e62",
   "metadata": {},
   "outputs": [
    {
     "name": "stdout",
     "output_type": "stream",
     "text": [
      "reject the null hypothesis.there is a significant difference between the means of two groups\n"
     ]
    }
   ],
   "source": [
    "if p_value < alpha:\n",
    "    print(\"reject the null hypothesis.there is a significant difference between the means of two groups\")\n",
    "else:\n",
    "    print(\"fail to reject the null hypothesis.there is no significant difference between the means of the two groups\")"
   ]
  },
  {
   "cell_type": "markdown",
   "id": "f6332ace",
   "metadata": {},
   "source": [
    "# PERFORM TWO TAILED TEST"
   ]
  },
  {
   "cell_type": "code",
   "execution_count": 18,
   "id": "6031db0e",
   "metadata": {},
   "outputs": [],
   "source": [
    "statistics_2tail,p_value_2tail=stats.ttest_ind(group1_scores,group2_scores)"
   ]
  },
  {
   "cell_type": "markdown",
   "id": "b5e4c2fb",
   "metadata": {},
   "source": [
    "# PERFORM ONE TAILED T-TEST(Right-Tailed)"
   ]
  },
  {
   "cell_type": "code",
   "execution_count": 19,
   "id": "688d03b9",
   "metadata": {},
   "outputs": [],
   "source": [
    "t_statistic_1tail_right,p_value_1tail_right=stats.ttest_ind(group1_scores,group2_scores,alternative=\"greater\")"
   ]
  },
  {
   "cell_type": "markdown",
   "id": "05837fa3",
   "metadata": {},
   "source": [
    "# PERFORM ONE TAILED T-TEST(Left-Tailed)"
   ]
  },
  {
   "cell_type": "code",
   "execution_count": 20,
   "id": "bbab3bcf",
   "metadata": {},
   "outputs": [],
   "source": [
    "t_statistic_1tail_left,p_value_1tail_left=stats.ttest_ind(group1_scores,group2_scores,alternative=\"less\")"
   ]
  },
  {
   "cell_type": "markdown",
   "id": "9c3ae6d3",
   "metadata": {},
   "source": [
    "# PRINT TWO-TAILED TEST"
   ]
  },
  {
   "cell_type": "code",
   "execution_count": 21,
   "id": "a7838443",
   "metadata": {},
   "outputs": [
    {
     "name": "stdout",
     "output_type": "stream",
     "text": [
      "TWO Tailed Test:\n",
      "T-statistic: -4.512913234547576\n",
      "p_value: 3.176506547469916e-05\n"
     ]
    }
   ],
   "source": [
    "print(\"TWO Tailed Test:\")\n",
    "print(\"T-statistic:\",statistics_2tail)\n",
    "print(\"p_value:\",p_value_2tail)"
   ]
  },
  {
   "cell_type": "markdown",
   "id": "67096000",
   "metadata": {},
   "source": [
    "# PRINT ONE-TAILED(Right-Tailed) RESULT"
   ]
  },
  {
   "cell_type": "code",
   "execution_count": 22,
   "id": "d2188707",
   "metadata": {},
   "outputs": [
    {
     "name": "stdout",
     "output_type": "stream",
     "text": [
      "TWO Tailed Test:\n",
      "T-statistic: -4.512913234547576\n",
      "p_value: 0.9999841174672627\n"
     ]
    }
   ],
   "source": [
    "print(\"TWO Tailed Test:\")\n",
    "print(\"T-statistic:\",t_statistic_1tail_right)\n",
    "print(\"p_value:\",p_value_1tail_right)"
   ]
  },
  {
   "cell_type": "markdown",
   "id": "222e9ef5",
   "metadata": {},
   "source": [
    "# PRINT ONE-TAILED(Left-Tailed) RESULT"
   ]
  },
  {
   "cell_type": "code",
   "execution_count": 23,
   "id": "65a0b35c",
   "metadata": {},
   "outputs": [
    {
     "name": "stdout",
     "output_type": "stream",
     "text": [
      "TWO Tailed Test:\n",
      "T-statistic: -4.512913234547576\n",
      "p_value: 1.588253273734958e-05\n"
     ]
    }
   ],
   "source": [
    "print(\"TWO Tailed Test:\")\n",
    "print(\"T-statistic:\",t_statistic_1tail_left)\n",
    "print(\"p_value:\",p_value_1tail_left)"
   ]
  },
  {
   "cell_type": "code",
   "execution_count": null,
   "id": "1be0f4b3",
   "metadata": {},
   "outputs": [],
   "source": []
  }
 ],
 "metadata": {
  "kernelspec": {
   "display_name": "Python 3 (ipykernel)",
   "language": "python",
   "name": "python3"
  },
  "language_info": {
   "codemirror_mode": {
    "name": "ipython",
    "version": 3
   },
   "file_extension": ".py",
   "mimetype": "text/x-python",
   "name": "python",
   "nbconvert_exporter": "python",
   "pygments_lexer": "ipython3",
   "version": "3.9.13"
  }
 },
 "nbformat": 4,
 "nbformat_minor": 5
}
